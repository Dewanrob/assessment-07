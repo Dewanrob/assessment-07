{
 "cells": [
  {
   "cell_type": "code",
   "execution_count": 83,
   "metadata": {},
   "outputs": [
    {
     "name": "stdout",
     "output_type": "stream",
     "text": [
      "['Margaret Thatcher Day', 'World Sketchnote Day', 'Zanzibar Revolution Day', 'National Rubber Ducky Day', 'Tamil Thai Pongdal Day', 'National Bagel Day', 'Signing of the Peace Accords'] ['2021-01-10', '2021-01-11', '2021-01-12', '2021-01-13', '2021-01-14', '2021-01-15', '2021-01-16']\n"
     ]
    }
   ],
   "source": [
    "import json\n",
    "import bs4\n",
    "import requests\n",
    "\n",
    "\n",
    "with open(\"holiday-seed.json\", 'r') as f:\n",
    "    X = json.load(f)\n",
    "holiday_names = []\n",
    "holiday_dates = []\n",
    "for i in range(0, len(X['holidays'])):\n",
    "    holiday_names.append(X['holidays'][i]['name'])\n",
    "    holiday_dates.append((X['holidays'][i]['date']))\n",
    "print(holiday_names, holiday_dates)\n"
   ]
  },
  {
   "cell_type": "code",
   "execution_count": 101,
   "metadata": {},
   "outputs": [
    {
     "data": {
      "text/plain": [
       "'2010-10-10'"
      ]
     },
     "execution_count": 101,
     "metadata": {},
     "output_type": "execute_result"
    }
   ],
   "source": [
    "import datetime\n",
    "str(datetime.date.fromisoformat('2010-10-10'))\n"
   ]
  },
  {
   "cell_type": "code",
   "execution_count": 481,
   "metadata": {},
   "outputs": [],
   "source": [
    "import datetime\n",
    "class Holiday:\n",
    "      \n",
    "    def __init__(self, name, date):\n",
    "        self.name = name \n",
    "        self.date = datetime.date.fromisoformat(date)\n",
    "        self.week = datetime.date.fromisoformat(date).isocalendar()[1]      \n",
    "        # pass\n",
    "    def __str__ (self):\n",
    "        # String output\n",
    "        string_date = str(self.date)\n",
    "        return self.name, string_date\n",
    "        # Holiday output when printed.\n",
    "        # pass  \n",
    "           "
   ]
  },
  {
   "cell_type": "code",
   "execution_count": 163,
   "metadata": {},
   "outputs": [],
   "source": [
    "test = Holiday('Billy Gibbons Day', '2010-06-12')"
   ]
  },
  {
   "cell_type": "code",
   "execution_count": 166,
   "metadata": {},
   "outputs": [
    {
     "ename": "TypeError",
     "evalue": "__str__ returned non-string (type tuple)",
     "output_type": "error",
     "traceback": [
      "\u001b[1;31m---------------------------------------------------------------------------\u001b[0m",
      "\u001b[1;31mTypeError\u001b[0m                                 Traceback (most recent call last)",
      "\u001b[1;32m~\\AppData\\Local\\Temp\\ipykernel_20864\\4001317122.py\u001b[0m in \u001b[0;36m<module>\u001b[1;34m\u001b[0m\n\u001b[1;32m----> 1\u001b[1;33m \u001b[0mprint\u001b[0m\u001b[1;33m(\u001b[0m\u001b[0mtest\u001b[0m\u001b[1;33m)\u001b[0m\u001b[1;33m\u001b[0m\u001b[1;33m\u001b[0m\u001b[0m\n\u001b[0m",
      "\u001b[1;31mTypeError\u001b[0m: __str__ returned non-string (type tuple)"
     ]
    }
   ],
   "source": [
    "print(test)"
   ]
  },
  {
   "cell_type": "code",
   "execution_count": 165,
   "metadata": {},
   "outputs": [
    {
     "data": {
      "text/plain": [
       "__main__.Holiday"
      ]
     },
     "execution_count": 165,
     "metadata": {},
     "output_type": "execute_result"
    }
   ],
   "source": [
    "type(test)"
   ]
  },
  {
   "cell_type": "code",
   "execution_count": 9,
   "metadata": {},
   "outputs": [
    {
     "data": {
      "text/plain": [
       "__main__.Holiday"
      ]
     },
     "execution_count": 9,
     "metadata": {},
     "output_type": "execute_result"
    }
   ],
   "source": []
  },
  {
   "cell_type": "code",
   "execution_count": 707,
   "metadata": {},
   "outputs": [],
   "source": [
    "class HolidayList:\n",
    "    def __init__(self):\n",
    "       self.innerHolidays = []\n",
    "       \n",
    "   \n",
    "    def addHoliday(self, holiday_obj):\n",
    "        # Make sure holidayObj is an Holiday Object by checking the type\n",
    "        if type(holiday_obj) != Holiday:\n",
    "            raise 'Not a valid holiday.'\n",
    "        # Use innerHolidays.append(holidayObj) to add holiday\n",
    "        else:\n",
    "            self.innerHolidays.append(holiday_obj)\n",
    "            # new_holiday = holiday_obj.__str__()\n",
    "            # value = {'Name' : new_holiday[0], 'Date' : new_holiday[1]}\n",
    "            # if value in self.innerHolidays:\n",
    "            #     print('That holiday is already in the list.')\n",
    "            # else:\n",
    "            #     self.innerHolidays.append(value)\n",
    "        # print to the user that you added a holiday\n",
    "                # day = new_holiday[0]\n",
    "            print(f\"You have successfully added {day} to the holiday list.\")\n",
    "\n",
    "\n",
    "\n",
    "    def findHoliday(self, HolidayName, Date):\n",
    "        # Find Holiday in innerHolidays\n",
    "        for i in range(0, len(self.innerHolidays)): \n",
    "            for items in self.innerHolidays:\n",
    "                if self.innerHolidays[i]['Name'] == HolidayName and self.innerHolidays[i]['Date'] == Date:\n",
    "                    index = i\n",
    "                    return self.innerHolidays[i]['Name'], self.innerHolidays[i]['Date'], index\n",
    "                else:\n",
    "                    pass\n",
    "        # Return Holiday\n",
    "\n",
    "    def removeHoliday(self, HolidayName, Date):\n",
    "        # Find Holiday in innerHolidays by searching the name and date combination.\n",
    "        try:\n",
    "            index = self.findHoliday(HolidayName, Date)[2]\n",
    "        # remove the Holiday from innerHolidays\n",
    "            self.innerHolidays.pop(index)\n",
    "        # inform user you deleted the holiday\n",
    "            day = HolidayName\n",
    "            print(f\"You successfully deleted {day} from the holiday list.\")\n",
    "        except: print(\"Holiday not found\")\n",
    "        \n",
    "    def read_json(self):\n",
    "        # Read in things from json file location\n",
    "        with open(\"holiday-seed.json\", 'r') as f:\n",
    "            holidays = json.load(f)\n",
    "        # Use addHoliday function to add holidays to inner list.\n",
    "        for i in range(0, len(holidays['holidays'])):\n",
    "            seed_holidays = Holiday(holidays['holidays'][i]['name'], holidays['holidays'][i]['date'])\n",
    "            self.addHoliday(seed_holidays)\n",
    "        \n",
    "\n",
    "\n",
    "    def save_to_json(self, filelocation):\n",
    "        # Write out json file to selected file.\n",
    "        holidays = {\"Holidays\" : self.innerHolidays}\n",
    "        try:\n",
    "            with open(filelocation, 'w') as f:\n",
    "                json.dump(holidays, f, indent = 4)\n",
    "        except: print(\"Not a vaild file location\")\n",
    "        \n",
    "        \n",
    "    def scrapeHolidays():\n",
    "        pass\n",
    "        # Scrape Holidays from https://www.timeanddate.com/holidays/us/ \n",
    "        # Remember, 2 previous years, current year, and 2  years into the future. You can scrape multiple years by adding year to the timeanddate URL. For example https://www.timeanddate.com/holidays/us/2022\n",
    "        # Check to see if name and date of holiday is in innerHolidays array\n",
    "        # Add non-duplicates to innerHolidays\n",
    "        # Handle any exceptions.     \n",
    "\n",
    "    def numHolidays(self):\n",
    "        # Return the total number of holidays in innerHolidays\n",
    "        return len(self.innerholidays)\n",
    "        # pass\n",
    "    \n",
    "    def filter_holidays_by_week(self, year, week_number):\n",
    "        try:\n",
    "            results = []\n",
    "            for i in range(0, len(self.innerHolidays)):\n",
    "                if week_year(self.innerHolidays[i]['Date'])[0] == week_number and week_year(self.innerHolidays[i]['Date'])[1] == year:\n",
    "                    results.append(self.innerHolidays[i])\n",
    "            # Use a Lambda function to filter by week number and save this as holidays, use the filter on innerHolidays\n",
    "            # Week number is part of the the Datetime object\n",
    "            sorted_results = sorted(results, key = lambda calendar_date: calendar_date['Date'])\n",
    "            self.innerHolidays = sorted(self.innerHolidays, key = lambda calendar_date: calendar_date['Date'])\n",
    "            # Cast filter results as list\n",
    "            holidays = []\n",
    "            for i in range (0, len(sorted_results)):\n",
    "                holidays.append((sorted_results[i]['Name'], sorted_results[i]['Date']))\n",
    "            # return your holidays\n",
    "            return holidays\n",
    "        except: \"Invalid week, year combination.\"\n",
    "\n",
    "    def displayHolidaysInWeek(self, year, week_number):\n",
    "        # Use your filter_holidays_by_week to get list of holidays within a week as a parameter\n",
    "        holidayList = self.filter_holidays_by_week(year, week_number)\n",
    "        for i in range(0, len(holidayList)):\n",
    "            print(holidayList[i][0], holidayList[i][1])\n",
    "        # self.filter_holidays_by_week(year, week_number)\n",
    "        # Output formated holidays in the week. \n",
    "        # * Remember to use the holiday __str__ method.\n",
    "\n",
    "    def getWeather(weekNum):\n",
    "        pass\n",
    "        # Convert weekNum to range between two days\n",
    "        # Use Try / Except to catch problems\n",
    "        # Query API for weather in that week range\n",
    "        # Format weather information and return weather string.\n",
    "\n",
    "    def viewCurrentWeek():\n",
    "        pass\n",
    "        # Use the Datetime Module to look up current week and year\n",
    "        # Use your filter_holidays_by_week function to get the list of holidays \n",
    "        # for the current week/year\n",
    "        # Use your displayHolidaysInWeek function to display the holidays in the week\n",
    "        # Ask user if they want to get the weather\n",
    "        # If yes, use your getWeather function and display results\n",
    "\n",
    "\n",
    "\n"
   ]
  },
  {
   "cell_type": "code",
   "execution_count": 708,
   "metadata": {},
   "outputs": [
    {
     "ename": "NameError",
     "evalue": "name 'day' is not defined",
     "output_type": "error",
     "traceback": [
      "\u001b[1;31m---------------------------------------------------------------------------\u001b[0m",
      "\u001b[1;31mNameError\u001b[0m                                 Traceback (most recent call last)",
      "\u001b[1;32m~\\AppData\\Local\\Temp\\ipykernel_20864\\147186861.py\u001b[0m in \u001b[0;36m<module>\u001b[1;34m\u001b[0m\n\u001b[0;32m      6\u001b[0m \u001b[1;31m#         seed_holidays = Holiday(holidays['holidays'][i]['name'], holidays['holidays'][i]['date'])\u001b[0m\u001b[1;33m\u001b[0m\u001b[1;33m\u001b[0m\u001b[0m\n\u001b[0;32m      7\u001b[0m \u001b[1;31m#         holiday_list.addHoliday(seed_holidays)\u001b[0m\u001b[1;33m\u001b[0m\u001b[1;33m\u001b[0m\u001b[0m\n\u001b[1;32m----> 8\u001b[1;33m \u001b[0mholiday_list\u001b[0m\u001b[1;33m.\u001b[0m\u001b[0mread_json\u001b[0m\u001b[1;33m(\u001b[0m\u001b[1;33m)\u001b[0m\u001b[1;33m\u001b[0m\u001b[1;33m\u001b[0m\u001b[0m\n\u001b[0m",
      "\u001b[1;32m~\\AppData\\Local\\Temp\\ipykernel_20864\\3307877119.py\u001b[0m in \u001b[0;36mread_json\u001b[1;34m(self)\u001b[0m\n\u001b[0;32m     52\u001b[0m         \u001b[1;32mfor\u001b[0m \u001b[0mi\u001b[0m \u001b[1;32min\u001b[0m \u001b[0mrange\u001b[0m\u001b[1;33m(\u001b[0m\u001b[1;36m0\u001b[0m\u001b[1;33m,\u001b[0m \u001b[0mlen\u001b[0m\u001b[1;33m(\u001b[0m\u001b[0mholidays\u001b[0m\u001b[1;33m[\u001b[0m\u001b[1;34m'holidays'\u001b[0m\u001b[1;33m]\u001b[0m\u001b[1;33m)\u001b[0m\u001b[1;33m)\u001b[0m\u001b[1;33m:\u001b[0m\u001b[1;33m\u001b[0m\u001b[1;33m\u001b[0m\u001b[0m\n\u001b[0;32m     53\u001b[0m             \u001b[0mseed_holidays\u001b[0m \u001b[1;33m=\u001b[0m \u001b[0mHoliday\u001b[0m\u001b[1;33m(\u001b[0m\u001b[0mholidays\u001b[0m\u001b[1;33m[\u001b[0m\u001b[1;34m'holidays'\u001b[0m\u001b[1;33m]\u001b[0m\u001b[1;33m[\u001b[0m\u001b[0mi\u001b[0m\u001b[1;33m]\u001b[0m\u001b[1;33m[\u001b[0m\u001b[1;34m'name'\u001b[0m\u001b[1;33m]\u001b[0m\u001b[1;33m,\u001b[0m \u001b[0mholidays\u001b[0m\u001b[1;33m[\u001b[0m\u001b[1;34m'holidays'\u001b[0m\u001b[1;33m]\u001b[0m\u001b[1;33m[\u001b[0m\u001b[0mi\u001b[0m\u001b[1;33m]\u001b[0m\u001b[1;33m[\u001b[0m\u001b[1;34m'date'\u001b[0m\u001b[1;33m]\u001b[0m\u001b[1;33m)\u001b[0m\u001b[1;33m\u001b[0m\u001b[1;33m\u001b[0m\u001b[0m\n\u001b[1;32m---> 54\u001b[1;33m             \u001b[0mself\u001b[0m\u001b[1;33m.\u001b[0m\u001b[0maddHoliday\u001b[0m\u001b[1;33m(\u001b[0m\u001b[0mseed_holidays\u001b[0m\u001b[1;33m)\u001b[0m\u001b[1;33m\u001b[0m\u001b[1;33m\u001b[0m\u001b[0m\n\u001b[0m\u001b[0;32m     55\u001b[0m \u001b[1;33m\u001b[0m\u001b[0m\n\u001b[0;32m     56\u001b[0m \u001b[1;33m\u001b[0m\u001b[0m\n",
      "\u001b[1;32m~\\AppData\\Local\\Temp\\ipykernel_20864\\3307877119.py\u001b[0m in \u001b[0;36maddHoliday\u001b[1;34m(self, holiday_obj)\u001b[0m\n\u001b[0;32m     19\u001b[0m         \u001b[1;31m# print to the user that you added a holiday\u001b[0m\u001b[1;33m\u001b[0m\u001b[1;33m\u001b[0m\u001b[0m\n\u001b[0;32m     20\u001b[0m                 \u001b[1;31m# day = new_holiday[0]\u001b[0m\u001b[1;33m\u001b[0m\u001b[1;33m\u001b[0m\u001b[0m\n\u001b[1;32m---> 21\u001b[1;33m             \u001b[0mprint\u001b[0m\u001b[1;33m(\u001b[0m\u001b[1;34mf\"You have successfully added {day} to the holiday list.\"\u001b[0m\u001b[1;33m)\u001b[0m\u001b[1;33m\u001b[0m\u001b[1;33m\u001b[0m\u001b[0m\n\u001b[0m\u001b[0;32m     22\u001b[0m \u001b[1;33m\u001b[0m\u001b[0m\n\u001b[0;32m     23\u001b[0m \u001b[1;33m\u001b[0m\u001b[0m\n",
      "\u001b[1;31mNameError\u001b[0m: name 'day' is not defined"
     ]
    }
   ],
   "source": [
    "holiday_list = HolidayList()\n",
    "# with open(\"holiday-seed.json\", 'r') as f:\n",
    "#     holidays = json.load(f)\n",
    "#     # Use addHoliday function to add holidays to inner list.\n",
    "#     for i in range(0, len(holidays['holidays'])):\n",
    "#         seed_holidays = Holiday(holidays['holidays'][i]['name'], holidays['holidays'][i]['date'])\n",
    "#         holiday_list.addHoliday(seed_holidays)\n",
    "holiday_list.read_json()"
   ]
  },
  {
   "cell_type": "code",
   "execution_count": 709,
   "metadata": {},
   "outputs": [
    {
     "ename": "NameError",
     "evalue": "name 'day' is not defined",
     "output_type": "error",
     "traceback": [
      "\u001b[1;31m---------------------------------------------------------------------------\u001b[0m",
      "\u001b[1;31mNameError\u001b[0m                                 Traceback (most recent call last)",
      "\u001b[1;32m~\\AppData\\Local\\Temp\\ipykernel_20864\\3848301679.py\u001b[0m in \u001b[0;36m<module>\u001b[1;34m\u001b[0m\n\u001b[0;32m      1\u001b[0m \u001b[1;31m# Does addHoliday work?\u001b[0m\u001b[1;33m\u001b[0m\u001b[1;33m\u001b[0m\u001b[0m\n\u001b[0;32m      2\u001b[0m \u001b[0mtest\u001b[0m \u001b[1;33m=\u001b[0m \u001b[0mHoliday\u001b[0m\u001b[1;33m(\u001b[0m\u001b[1;34m'Quack Like a Duck Day'\u001b[0m\u001b[1;33m,\u001b[0m \u001b[1;34m'2021-01-10'\u001b[0m\u001b[1;33m)\u001b[0m\u001b[1;33m\u001b[0m\u001b[1;33m\u001b[0m\u001b[0m\n\u001b[1;32m----> 3\u001b[1;33m \u001b[0mholiday_list\u001b[0m\u001b[1;33m.\u001b[0m\u001b[0maddHoliday\u001b[0m\u001b[1;33m(\u001b[0m\u001b[0mtest\u001b[0m\u001b[1;33m)\u001b[0m\u001b[1;33m\u001b[0m\u001b[1;33m\u001b[0m\u001b[0m\n\u001b[0m",
      "\u001b[1;32m~\\AppData\\Local\\Temp\\ipykernel_20864\\3307877119.py\u001b[0m in \u001b[0;36maddHoliday\u001b[1;34m(self, holiday_obj)\u001b[0m\n\u001b[0;32m     19\u001b[0m         \u001b[1;31m# print to the user that you added a holiday\u001b[0m\u001b[1;33m\u001b[0m\u001b[1;33m\u001b[0m\u001b[0m\n\u001b[0;32m     20\u001b[0m                 \u001b[1;31m# day = new_holiday[0]\u001b[0m\u001b[1;33m\u001b[0m\u001b[1;33m\u001b[0m\u001b[0m\n\u001b[1;32m---> 21\u001b[1;33m             \u001b[0mprint\u001b[0m\u001b[1;33m(\u001b[0m\u001b[1;34mf\"You have successfully added {day} to the holiday list.\"\u001b[0m\u001b[1;33m)\u001b[0m\u001b[1;33m\u001b[0m\u001b[1;33m\u001b[0m\u001b[0m\n\u001b[0m\u001b[0;32m     22\u001b[0m \u001b[1;33m\u001b[0m\u001b[0m\n\u001b[0;32m     23\u001b[0m \u001b[1;33m\u001b[0m\u001b[0m\n",
      "\u001b[1;31mNameError\u001b[0m: name 'day' is not defined"
     ]
    }
   ],
   "source": [
    "# Does addHoliday work?\n",
    "test = Holiday('Quack Like a Duck Day', '2021-01-10')\n",
    "holiday_list.addHoliday(test)"
   ]
  },
  {
   "cell_type": "code",
   "execution_count": 594,
   "metadata": {},
   "outputs": [
    {
     "data": {
      "text/plain": [
       "('Margaret Thatcher Day', '2021-01-10', 0)"
      ]
     },
     "execution_count": 594,
     "metadata": {},
     "output_type": "execute_result"
    }
   ],
   "source": [
    "# Does findHoliday work?\n",
    "holiday_list.findHoliday('Margaret Thatcher Day', '2021-01-10')"
   ]
  },
  {
   "cell_type": "code",
   "execution_count": 466,
   "metadata": {},
   "outputs": [
    {
     "name": "stdout",
     "output_type": "stream",
     "text": [
      "Holiday not found\n",
      "[{'Name': 'World Sketchnote Day', 'Date': '2021-01-11'}, {'Name': 'Zanzibar Revolution Day', 'Date': '2021-01-12'}, {'Name': 'National Rubber Ducky Day', 'Date': '2021-01-13'}, {'Name': 'Tamil Thai Pongdal Day', 'Date': '2021-01-14'}, {'Name': 'National Bagel Day', 'Date': '2021-01-15'}, {'Name': 'Signing of the Peace Accords', 'Date': '2021-01-16'}, {'Name': 'Quack Like a Duck Day', 'Date': '2000-10-20'}]\n"
     ]
    }
   ],
   "source": [
    "# Does removeHoliday work?\n",
    "holiday_list.removeHoliday('Margaret Thatcher Day', '2021-01-10')\n",
    "print(holiday_list.innerHolidays)"
   ]
  },
  {
   "cell_type": "code",
   "execution_count": 595,
   "metadata": {},
   "outputs": [
    {
     "name": "stdout",
     "output_type": "stream",
     "text": [
      "{'Holidays': [{'Name': 'Margaret Thatcher Day', 'Date': '2021-01-10'}, {'Name': 'World Sketchnote Day', 'Date': '2021-01-11'}, {'Name': 'Zanzibar Revolution Day', 'Date': '2021-01-12'}, {'Name': 'National Rubber Ducky Day', 'Date': '2021-01-13'}, {'Name': 'Tamil Thai Pongdal Day', 'Date': '2021-01-14'}, {'Name': 'National Bagel Day', 'Date': '2021-01-15'}, {'Name': 'Signing of the Peace Accords', 'Date': '2021-01-16'}, {'Name': 'Quack Like a Duck Day', 'Date': '2000-10-20'}]}\n"
     ]
    }
   ],
   "source": [
    "holidays = {\"Holidays\" : holiday_list.innerHolidays}\n",
    "print(holidays)\n"
   ]
  },
  {
   "cell_type": "code",
   "execution_count": 467,
   "metadata": {},
   "outputs": [],
   "source": [
    "# This is saving holidays as Json\n",
    "holidays = {\"Holidays\" : holiday_list.innerHolidays}\n",
    "fn = 'test.json'\n",
    "with open(fn, 'w') as f:\n",
    "    json.dump(holidays, f, indent = 4)"
   ]
  },
  {
   "cell_type": "code",
   "execution_count": 470,
   "metadata": {},
   "outputs": [
    {
     "data": {
      "text/plain": [
       "datetime.date(2022, 12, 16)"
      ]
     },
     "execution_count": 470,
     "metadata": {},
     "output_type": "execute_result"
    }
   ],
   "source": [
    "# Current date Y, M, D\n",
    "datetime.date.today()"
   ]
  },
  {
   "cell_type": "code",
   "execution_count": 590,
   "metadata": {},
   "outputs": [
    {
     "name": "stdout",
     "output_type": "stream",
     "text": [
      "datetime.IsoCalendarDate(year=2010, week=40, weekday=7)\n",
      "40\n",
      "<class 'int'>\n"
     ]
    }
   ],
   "source": [
    "# This gets you the year, week, weekday\n",
    "print(datetime.date.fromisoformat('2010-10-10').isocalendar())\n",
    "# this gets you the week\n",
    "print(datetime.date.fromisoformat('2010-10-10').isocalendar()[1])\n",
    "# Is this today's week?\n",
    "print(type(datetime.date.today().isocalendar()[1]))"
   ]
  },
  {
   "cell_type": "code",
   "execution_count": 565,
   "metadata": {},
   "outputs": [
    {
     "name": "stdout",
     "output_type": "stream",
     "text": [
      "You have successfully added A to the holiday list.\n",
      "[{'Name': 'Margaret Thatcher Day', 'Date': '2021-01-10'}, {'Name': 'World Sketchnote Day', 'Date': '2021-01-11'}, {'Name': 'Zanzibar Revolution Day', 'Date': '2021-01-12'}, {'Name': 'National Rubber Ducky Day', 'Date': '2021-01-13'}, {'Name': 'Tamil Thai Pongdal Day', 'Date': '2021-01-14'}, {'Name': 'National Bagel Day', 'Date': '2021-01-15'}, {'Name': 'Signing of the Peace Accords', 'Date': '2021-01-16'}, {'Name': 'A', 'Date': '2021-01-09'}]\n"
     ]
    }
   ],
   "source": [
    "test = Holiday('A', '2021-01-09')\n",
    "holiday_list.addHoliday(test)\n",
    "print(holiday_list.innerHolidays)"
   ]
  },
  {
   "cell_type": "code",
   "execution_count": 582,
   "metadata": {},
   "outputs": [],
   "source": [
    "def week_year(holiday):\n",
    "    week = datetime.date.fromisoformat(holiday).isocalendar()[1]\n",
    "    year = datetime.date.fromisoformat(holiday).isocalendar()[0]\n",
    "    return week, year\n",
    "\n",
    "test = holiday_list.innerHolidays\n",
    "year = 2021\n",
    "week = 1\n",
    "results = []\n",
    "for i in range(0, len(test)):\n",
    "    if week_year(test[i]['Date'])[0] == week and week_year(test[i]['Date'])[1] == year:\n",
    "        results.append(test[i])\n"
   ]
  },
  {
   "cell_type": "code",
   "execution_count": 583,
   "metadata": {},
   "outputs": [
    {
     "name": "stdout",
     "output_type": "stream",
     "text": [
      "[{'Name': 'A', 'Date': '2021-01-09'}, {'Name': 'Margaret Thatcher Day', 'Date': '2021-01-10'}]\n"
     ]
    }
   ],
   "source": [
    "results_two = sorted(results, key = lambda calendar_date: calendar_date['Date'])\n",
    "print(results_two)"
   ]
  },
  {
   "cell_type": "code",
   "execution_count": 505,
   "metadata": {},
   "outputs": [],
   "source": [
    "def week_year(holiday):\n",
    "    week = datetime.date.fromisoformat(holiday).isocalendar()[1]\n",
    "    year = datetime.date.fromisoformat(holiday).isocalendar()[0]\n",
    "    return week, year"
   ]
  },
  {
   "cell_type": "code",
   "execution_count": 699,
   "metadata": {},
   "outputs": [
    {
     "data": {
      "text/plain": [
       "[('World Sketchnote Day', '2021-01-11'),\n",
       " ('Zanzibar Revolution Day', '2021-01-12'),\n",
       " ('National Rubber Ducky Day', '2021-01-13'),\n",
       " ('Tamil Thai Pongdal Day', '2021-01-14'),\n",
       " ('National Bagel Day', '2021-01-15'),\n",
       " ('Signing of the Peace Accords', '2021-01-16')]"
      ]
     },
     "execution_count": 699,
     "metadata": {},
     "output_type": "execute_result"
    }
   ],
   "source": [
    "holiday_list.filter_holidays_by_week(2021, 2)"
   ]
  },
  {
   "cell_type": "code",
   "execution_count": 701,
   "metadata": {},
   "outputs": [
    {
     "name": "stdout",
     "output_type": "stream",
     "text": [
      "World Sketchnote Day 2021-01-11\n",
      "Zanzibar Revolution Day 2021-01-12\n",
      "National Rubber Ducky Day 2021-01-13\n",
      "Tamil Thai Pongdal Day 2021-01-14\n",
      "National Bagel Day 2021-01-15\n",
      "Signing of the Peace Accords 2021-01-16\n"
     ]
    }
   ],
   "source": [
    "holiday_list.displayHolidaysInWeek(2021, 2)"
   ]
  },
  {
   "cell_type": "code",
   "execution_count": 678,
   "metadata": {},
   "outputs": [
    {
     "name": "stdout",
     "output_type": "stream",
     "text": [
      "[{'Name': 'World Sketchnote Day', 'Date': '2021-01-11'}, {'Name': 'Zanzibar Revolution Day', 'Date': '2021-01-12'}, {'Name': 'National Rubber Ducky Day', 'Date': '2021-01-13'}, {'Name': 'Tamil Thai Pongdal Day', 'Date': '2021-01-14'}, {'Name': 'National Bagel Day', 'Date': '2021-01-15'}, {'Name': 'Signing of the Peace Accords', 'Date': '2021-01-16'}]\n",
      "[{'Name': 'World Sketchnote Day', 'Date': '2021-01-11'}, {'Name': 'Zanzibar Revolution Day', 'Date': '2021-01-12'}, {'Name': 'National Rubber Ducky Day', 'Date': '2021-01-13'}, {'Name': 'Tamil Thai Pongdal Day', 'Date': '2021-01-14'}, {'Name': 'National Bagel Day', 'Date': '2021-01-15'}, {'Name': 'Signing of the Peace Accords', 'Date': '2021-01-16'}]\n",
      "[('World Sketchnote Day', '2021-01-11'), ('Zanzibar Revolution Day', '2021-01-12'), ('National Rubber Ducky Day', '2021-01-13'), ('Tamil Thai Pongdal Day', '2021-01-14'), ('National Bagel Day', '2021-01-15'), ('Signing of the Peace Accords', '2021-01-16')]\n"
     ]
    }
   ],
   "source": [
    "year = 2021\n",
    "week_number = 2\n",
    "results = []\n",
    "for i in range(0, len(holiday_list.innerHolidays)):\n",
    "    if week_year(holiday_list.innerHolidays[i]['Date'])[0] == week_number and week_year(holiday_list.innerHolidays[i]['Date'])[1] == year:\n",
    "        results.append(holiday_list.innerHolidays[i])\n",
    "# Use a Lambda function to filter by week number and save this as holidays, use the filter on innerHolidays\n",
    "# Week number is part of the the Datetime object\n",
    "sorted_results = sorted(results, key = lambda calendar_date: calendar_date['Date'])\n",
    "# Cast filter results as list\n",
    "holidays = []\n",
    "for i in range(0, len(sorted_results)):\n",
    "    holidays.append((sorted_results[i]['Name'], sorted_results[i]['Date']))\n",
    "# return your holidays\n",
    "print(results)\n",
    "print(sorted_results)\n",
    "print(holidays)\n"
   ]
  },
  {
   "cell_type": "code",
   "execution_count": 680,
   "metadata": {},
   "outputs": [],
   "source": [
    "\n",
    "\n",
    "holidays = []\n",
    "for i in range(0, len(sorted_results)):\n",
    "    holidays.append((sorted_results[i]['Name'], sorted_results[i]['Date']))"
   ]
  },
  {
   "cell_type": "code",
   "execution_count": 692,
   "metadata": {},
   "outputs": [],
   "source": [
    "def valid_week (week):\n",
    "    if week.isdigit() == True and int(week) in range(1, 53):\n",
    "        return int(week)\n",
    "    if week == '':\n",
    "        return ''\n",
    "    else:\n",
    "        print('Not a valid option')\n",
    "\n",
    "def valid_year (year):\n",
    "    if year.isdigit() == True and int(year) > 0:\n",
    "        return int(year)\n",
    "    else:\n",
    "        print('Not a valid option.')\n",
    "\n",
    "\n",
    "def option_four():\n",
    "    print('''\n",
    "        View Holidays\n",
    "        =============\n",
    "        ''')\n",
    "    year = input('Which year?: ')\n",
    "    week = input('Which week? #[1-52, Leave blank for the current week]: ')\n",
    "    return valid_year(year), valid_week(week)"
   ]
  },
  {
   "cell_type": "code",
   "execution_count": 695,
   "metadata": {},
   "outputs": [
    {
     "name": "stdout",
     "output_type": "stream",
     "text": [
      "\n",
      "        View Holidays\n",
      "        =============\n",
      "        \n"
     ]
    }
   ],
   "source": [
    "year, week = option_four()"
   ]
  },
  {
   "cell_type": "code",
   "execution_count": 696,
   "metadata": {},
   "outputs": [],
   "source": [
    "holiday_list.displayHolidaysInWeek(year, week)"
   ]
  },
  {
   "cell_type": "code",
   "execution_count": null,
   "metadata": {},
   "outputs": [],
   "source": []
  }
 ],
 "metadata": {
  "kernelspec": {
   "display_name": "base",
   "language": "python",
   "name": "python3"
  },
  "language_info": {
   "codemirror_mode": {
    "name": "ipython",
    "version": 3
   },
   "file_extension": ".py",
   "mimetype": "text/x-python",
   "name": "python",
   "nbconvert_exporter": "python",
   "pygments_lexer": "ipython3",
   "version": "3.9.13"
  },
  "orig_nbformat": 4,
  "vscode": {
   "interpreter": {
    "hash": "85dc16358c8135276cea6cc9ec3de3bb48d54befa5bbd5118bc882ec3e06d27f"
   }
  }
 },
 "nbformat": 4,
 "nbformat_minor": 2
}
