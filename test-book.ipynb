{
 "cells": [
  {
   "cell_type": "code",
   "execution_count": 83,
   "metadata": {},
   "outputs": [
    {
     "name": "stdout",
     "output_type": "stream",
     "text": [
      "['Margaret Thatcher Day', 'World Sketchnote Day', 'Zanzibar Revolution Day', 'National Rubber Ducky Day', 'Tamil Thai Pongdal Day', 'National Bagel Day', 'Signing of the Peace Accords'] ['2021-01-10', '2021-01-11', '2021-01-12', '2021-01-13', '2021-01-14', '2021-01-15', '2021-01-16']\n"
     ]
    }
   ],
   "source": [
    "import json\n",
    "import bs4\n",
    "import requests\n",
    "\n",
    "\n",
    "with open(\"holiday-seed.json\", 'r') as f:\n",
    "    X = json.load(f)\n",
    "holiday_names = []\n",
    "holiday_dates = []\n",
    "for i in range(0, len(X['holidays'])):\n",
    "    holiday_names.append(X['holidays'][i]['name'])\n",
    "    holiday_dates.append((X['holidays'][i]['date']))\n",
    "print(holiday_names, holiday_dates)\n"
   ]
  },
  {
   "cell_type": "code",
   "execution_count": 101,
   "metadata": {},
   "outputs": [
    {
     "data": {
      "text/plain": [
       "'2010-10-10'"
      ]
     },
     "execution_count": 101,
     "metadata": {},
     "output_type": "execute_result"
    }
   ],
   "source": [
    "import datetime\n",
    "str(datetime.date.fromisoformat('2010-10-10'))\n"
   ]
  },
  {
   "cell_type": "code",
   "execution_count": 152,
   "metadata": {},
   "outputs": [],
   "source": [
    "import datetime\n",
    "class Holiday:\n",
    "      \n",
    "    def __init__(self, name, date):\n",
    "        self.name = name \n",
    "        self.date = datetime.date.fromisoformat(date)      \n",
    "        # pass\n",
    "    def __str__ (self):\n",
    "        # String output\n",
    "        string_date = str(self.date)\n",
    "        return self.name, string_date\n",
    "        # Holiday output when printed.\n",
    "        # pass  \n",
    "           "
   ]
  },
  {
   "cell_type": "code",
   "execution_count": 163,
   "metadata": {},
   "outputs": [],
   "source": [
    "test = Holiday('Billy Gibbons Day', '2010-06-12')"
   ]
  },
  {
   "cell_type": "code",
   "execution_count": 166,
   "metadata": {},
   "outputs": [
    {
     "ename": "TypeError",
     "evalue": "__str__ returned non-string (type tuple)",
     "output_type": "error",
     "traceback": [
      "\u001b[1;31m---------------------------------------------------------------------------\u001b[0m",
      "\u001b[1;31mTypeError\u001b[0m                                 Traceback (most recent call last)",
      "\u001b[1;32m~\\AppData\\Local\\Temp\\ipykernel_20864\\4001317122.py\u001b[0m in \u001b[0;36m<module>\u001b[1;34m\u001b[0m\n\u001b[1;32m----> 1\u001b[1;33m \u001b[0mprint\u001b[0m\u001b[1;33m(\u001b[0m\u001b[0mtest\u001b[0m\u001b[1;33m)\u001b[0m\u001b[1;33m\u001b[0m\u001b[1;33m\u001b[0m\u001b[0m\n\u001b[0m",
      "\u001b[1;31mTypeError\u001b[0m: __str__ returned non-string (type tuple)"
     ]
    }
   ],
   "source": [
    "print(test)"
   ]
  },
  {
   "cell_type": "code",
   "execution_count": 165,
   "metadata": {},
   "outputs": [
    {
     "data": {
      "text/plain": [
       "__main__.Holiday"
      ]
     },
     "execution_count": 165,
     "metadata": {},
     "output_type": "execute_result"
    }
   ],
   "source": [
    "type(test)"
   ]
  },
  {
   "cell_type": "code",
   "execution_count": 9,
   "metadata": {},
   "outputs": [
    {
     "data": {
      "text/plain": [
       "__main__.Holiday"
      ]
     },
     "execution_count": 9,
     "metadata": {},
     "output_type": "execute_result"
    }
   ],
   "source": []
  },
  {
   "cell_type": "code",
   "execution_count": 333,
   "metadata": {},
   "outputs": [],
   "source": [
    "class HolidayList:\n",
    "    def __init__(self):\n",
    "       self.innerHolidays = []\n",
    "       \n",
    "   \n",
    "    def addHoliday(self, holiday_obj):\n",
    "        # Make sure holidayObj is an Holiday Object by checking the type\n",
    "        if type(holiday_obj) != Holiday:\n",
    "            raise 'Not a Holiday.'\n",
    "        # Use innerHolidays.append(holidayObj) to add holiday\n",
    "        else:\n",
    "            new_holiday = holiday_obj.__str__()\n",
    "            self.innerHolidays.append({\"Holiday\": new_holiday[0], 'Date': new_holiday[1]})\n",
    "        # print to the user that you added a holiday\n",
    "            day = new_holiday[0]\n",
    "            print(f\"You have successfully added {day} to the holiday list.\")\n",
    "\n",
    "\n",
    "\n",
    "    def findHoliday(self, HolidayName, Date):\n",
    "        # Find Holiday in innerHolidays\n",
    "        for i in range(0, len(self.innerHolidays)): \n",
    "            for items in self.innerHolidays:\n",
    "                if self.innerHolidays[i]['Holiday'] == HolidayName and self.innerHolidays[i]['Date'] == Date:\n",
    "                    return self.innerHolidays[i]['Holiday'], self.innerHolidays[i]['Date']\n",
    "                else:\n",
    "                    pass\n",
    "        # Return Holiday\n",
    "\n",
    "    def removeHoliday(HolidayName, Date):\n",
    "        pass\n",
    "        # Find Holiday in innerHolidays by searching the name and date combination.\n",
    "        # remove the Holiday from innerHolidays\n",
    "        # inform user you deleted the holiday\n",
    "\n",
    "    def read_json(self):\n",
    "        # Read in things from json file location\n",
    "        with open(\"holiday-seed.json\", 'r') as f:\n",
    "            holidays = json.load(f)\n",
    "        # Use addHoliday function to add holidays to inner list.\n",
    "        for i in range(0, len(holidays['holidays'])):\n",
    "            seed_holidays = Holiday(holidays['holidays'][i]['name'], holidays['holidays'][i]['date'])\n",
    "            self.addHoliday(seed_holidays[0], seed_holidays[1])\n",
    "        \n",
    "\n",
    "\n",
    "    def save_to_json(filelocation):\n",
    "        pass\n",
    "        # Write out json file to selected file.\n",
    "        \n",
    "    def scrapeHolidays():\n",
    "        pass\n",
    "        # Scrape Holidays from https://www.timeanddate.com/holidays/us/ \n",
    "        # Remember, 2 previous years, current year, and 2  years into the future. You can scrape multiple years by adding year to the timeanddate URL. For example https://www.timeanddate.com/holidays/us/2022\n",
    "        # Check to see if name and date of holiday is in innerHolidays array\n",
    "        # Add non-duplicates to innerHolidays\n",
    "        # Handle any exceptions.     \n",
    "\n",
    "    def numHolidays(self):\n",
    "        # Return the total number of holidays in innerHolidays\n",
    "        return len(self.innerholidays)\n",
    "        # pass\n",
    "    \n",
    "    def filter_holidays_by_week(year, week_number):\n",
    "        pass\n",
    "        # Use a Lambda function to filter by week number and save this as holidays, use the filter on innerHolidays\n",
    "        # Week number is part of the the Datetime object\n",
    "        # Cast filter results as list\n",
    "        # return your holidays\n",
    "\n",
    "    def displayHolidaysInWeek(holidayList):\n",
    "        pass\n",
    "        # Use your filter_holidays_by_week to get list of holidays within a week as a parameter\n",
    "        # Output formated holidays in the week. \n",
    "        # * Remember to use the holiday __str__ method.\n",
    "\n",
    "    def getWeather(weekNum):\n",
    "        pass\n",
    "        # Convert weekNum to range between two days\n",
    "        # Use Try / Except to catch problems\n",
    "        # Query API for weather in that week range\n",
    "        # Format weather information and return weather string.\n",
    "\n",
    "    def viewCurrentWeek():\n",
    "        pass\n",
    "        # Use the Datetime Module to look up current week and year\n",
    "        # Use your filter_holidays_by_week function to get the list of holidays \n",
    "        # for the current week/year\n",
    "        # Use your displayHolidaysInWeek function to display the holidays in the week\n",
    "        # Ask user if they want to get the weather\n",
    "        # If yes, use your getWeather function and display results\n",
    "\n",
    "    def Display(self):\n",
    "        print(self.innerHolidays)\n",
    "\n",
    "\n"
   ]
  },
  {
   "cell_type": "code",
   "execution_count": 334,
   "metadata": {},
   "outputs": [],
   "source": [
    "holiday_list = HolidayList()"
   ]
  },
  {
   "cell_type": "code",
   "execution_count": 274,
   "metadata": {},
   "outputs": [
    {
     "name": "stdout",
     "output_type": "stream",
     "text": [
      "<__main__.HolidayList object at 0x0000028326212E20>\n"
     ]
    }
   ],
   "source": [
    "print(holiday_list)"
   ]
  },
  {
   "cell_type": "code",
   "execution_count": 335,
   "metadata": {},
   "outputs": [
    {
     "name": "stdout",
     "output_type": "stream",
     "text": [
      "You have successfully added Margaret Thatcher Day to the holiday list.\n",
      "You have successfully added World Sketchnote Day to the holiday list.\n",
      "You have successfully added Zanzibar Revolution Day to the holiday list.\n",
      "You have successfully added National Rubber Ducky Day to the holiday list.\n",
      "You have successfully added Tamil Thai Pongdal Day to the holiday list.\n",
      "You have successfully added National Bagel Day to the holiday list.\n",
      "You have successfully added Signing of the Peace Accords to the holiday list.\n"
     ]
    }
   ],
   "source": [
    "\n",
    "with open(\"holiday-seed.json\", 'r') as f:\n",
    "    holidays = json.load(f)\n",
    "    # Use addHoliday function to add holidays to inner list.\n",
    "    for i in range(0, len(holidays['holidays'])):\n",
    "        seed_holidays = Holiday(holidays['holidays'][i]['name'], holidays['holidays'][i]['date'])\n",
    "        holiday_list.addHoliday(seed_holidays)\n",
    "  "
   ]
  },
  {
   "cell_type": "code",
   "execution_count": 336,
   "metadata": {},
   "outputs": [],
   "source": [
    "test = Holiday('Quack Like a Duck Day', '2000-10-20')"
   ]
  },
  {
   "cell_type": "code",
   "execution_count": 321,
   "metadata": {},
   "outputs": [
    {
     "name": "stdout",
     "output_type": "stream",
     "text": [
      "You have successfully added Quack Like a Duck Day to the holiday list.\n"
     ]
    }
   ],
   "source": [
    "holiday_list.addHoliday(test)"
   ]
  },
  {
   "cell_type": "code",
   "execution_count": 322,
   "metadata": {},
   "outputs": [
    {
     "data": {
      "text/plain": [
       "[{'Holiday': 'Margaret Thatcher Day', 'Date': '2021-01-10'},\n",
       " {'Holiday': 'World Sketchnote Day', 'Date': '2021-01-11'},\n",
       " {'Holiday': 'Zanzibar Revolution Day', 'Date': '2021-01-12'},\n",
       " {'Holiday': 'National Rubber Ducky Day', 'Date': '2021-01-13'},\n",
       " {'Holiday': 'Tamil Thai Pongdal Day', 'Date': '2021-01-14'},\n",
       " {'Holiday': 'National Bagel Day', 'Date': '2021-01-15'},\n",
       " {'Holiday': 'Signing of the Peace Accords', 'Date': '2021-01-16'},\n",
       " {'Holiday': 'Quack Like a Duck Day', 'Date': '2000-10-20'}]"
      ]
     },
     "execution_count": 322,
     "metadata": {},
     "output_type": "execute_result"
    }
   ],
   "source": [
    "holiday_list.innerHolidays"
   ]
  },
  {
   "cell_type": "code",
   "execution_count": 328,
   "metadata": {},
   "outputs": [
    {
     "data": {
      "text/plain": [
       "('Margaret Thatcher Day', '2021-01-10')"
      ]
     },
     "execution_count": 328,
     "metadata": {},
     "output_type": "execute_result"
    }
   ],
   "source": [
    "holiday_list.findHoliday('Margaret Thatcher Day', '2021-01-10')"
   ]
  },
  {
   "cell_type": "code",
   "execution_count": 332,
   "metadata": {},
   "outputs": [
    {
     "name": "stdout",
     "output_type": "stream",
     "text": [
      "[{'Holiday': 'Margaret Thatcher Day', 'Date': '2021-01-10'}, {'Holiday': 'World Sketchnote Day', 'Date': '2021-01-11'}, {'Holiday': 'Zanzibar Revolution Day', 'Date': '2021-01-12'}, {'Holiday': 'National Rubber Ducky Day', 'Date': '2021-01-13'}, {'Holiday': 'Tamil Thai Pongdal Day', 'Date': '2021-01-14'}, {'Holiday': 'National Bagel Day', 'Date': '2021-01-15'}, {'Holiday': 'Signing of the Peace Accords', 'Date': '2021-01-16'}, {'Holiday': 'Quack Like a Duck Day', 'Date': '2000-10-20'}]\n"
     ]
    }
   ],
   "source": []
  },
  {
   "cell_type": "code",
   "execution_count": 337,
   "metadata": {},
   "outputs": [],
   "source": [
    "object = holiday_list.innerHolidays"
   ]
  },
  {
   "cell_type": "code",
   "execution_count": null,
   "metadata": {},
   "outputs": [],
   "source": []
  }
 ],
 "metadata": {
  "kernelspec": {
   "display_name": "base",
   "language": "python",
   "name": "python3"
  },
  "language_info": {
   "codemirror_mode": {
    "name": "ipython",
    "version": 3
   },
   "file_extension": ".py",
   "mimetype": "text/x-python",
   "name": "python",
   "nbconvert_exporter": "python",
   "pygments_lexer": "ipython3",
   "version": "3.9.13"
  },
  "orig_nbformat": 4,
  "vscode": {
   "interpreter": {
    "hash": "85dc16358c8135276cea6cc9ec3de3bb48d54befa5bbd5118bc882ec3e06d27f"
   }
  }
 },
 "nbformat": 4,
 "nbformat_minor": 2
}
